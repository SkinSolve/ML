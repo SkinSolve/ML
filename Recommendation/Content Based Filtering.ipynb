{
 "cells": [
  {
   "cell_type": "code",
   "execution_count": 15,
   "metadata": {},
   "outputs": [
    {
     "name": "stdout",
     "output_type": "stream",
     "text": [
      "\n",
      "Top products for skincare_type 'Sunscreen':\n",
      "Whitening Sunscreen - Rating: 4.9, Link: https://reviews.femaledaily.com/products/moisturizer/sun-protection-44/solcare/whitening-sunscreen?cat=&cat_id=0&age_range=&skin_type=&skin_tone=&skin_undertone=&hair_texture=&hair_type=&order=newest&page=1\n",
      "Nigella Suncreen - Rating: 4.9, Link: https://reviews.femaledaily.com/products/moisturizer/sun-protection-44/hedtutu/nigella-suncreen?cat=&cat_id=0&age_range=&skin_type=&skin_tone=&skin_undertone=&hair_texture=&hair_type=&order=newest&page=1\n",
      "Tinted Glowing Sunscreen - Rating: 4.9, Link: https://reviews.femaledaily.com/products/moisturizer/sun-protection-44/lucienne/tinted-glowing-sunscreen?cat=&cat_id=0&age_range=&skin_type=&skin_tone=&skin_undertone=&hair_texture=&hair_type=&order=newest&page=1\n",
      "Waterfull Essence Sun Cream SPF 50+ PA++++ - Rating: 4.8, Link: https://reviews.femaledaily.com/products/moisturizer/sun-protection-44/dalba/waterfull-essence-sun-cream-spf-50-pa-2?cat=&cat_id=0&age_range=&skin_type=&skin_tone=&skin_undertone=&hair_texture=&hair_type=&order=newest&page=1\n",
      "Pure Face Sunscreen Face - Rating: 4.8, Link: https://reviews.femaledaily.com/products/moisturizer/sun-protection-44/jellys/jellys-pure-face-sunscreen-face?cat=&cat_id=0&age_range=&skin_type=&skin_tone=&skin_undertone=&hair_texture=&hair_type=&order=newest&page=1\n",
      "The Perfect Shield Sunscreen SPF 50 PA++++ - Rating: 4.7, Link: https://reviews.femaledaily.com/products/moisturizer/sun-protection-44/noera-by-reisha/noera-the-perfect-shield-sunscreen-spf-50-pa?cat=&cat_id=0&age_range=&skin_type=&skin_tone=&skin_undertone=&hair_texture=&hair_type=&order=newest&page=1\n",
      "\n",
      "No products found for skincare_type 'Facial Wash'.\n",
      "\n",
      "Top products for skincare_type 'Moisturizer Gel':\n",
      "Dramatically Different Moisturizing Tone-Up Gel - Rating: 4.0, Link: https://reviews.femaledaily.com/products/moisturizer/night-cream-16/clinique/dramatically-different-moisturizing-tone-up-gel-1?cat=&cat_id=0&age_range=&skin_type=&skin_tone=&skin_undertone=&hair_texture=&hair_type=&order=newest&page=1\n",
      "\n",
      "Top products for skincare_type 'Moisturizer Cream':\n",
      "Flawless White Visible Lightening Day Cream SPF 18/PA++ - Rating: 5.0, Link: https://reviews.femaledaily.com/products/moisturizer/day-cream/ponds/flawless-white-visible-lightening-day-cream-spf18-pa-61?cat=&cat_id=0&age_range=&skin_type=&skin_tone=&skin_undertone=&hair_texture=&hair_type=&order=newest&page=1\n",
      "Whitening Day Cream - Rating: 5.0, Link: https://reviews.femaledaily.com/products/moisturizer/day-cream/ms-glow/whitening-day-cream-azloe-3?cat=&cat_id=0&age_range=&skin_type=&skin_tone=&skin_undertone=&hair_texture=&hair_type=&order=newest&page=1\n",
      "Glycolic Bright Day Cream SPF17 - Rating: 5.0, Link: https://reviews.femaledaily.com/products/moisturizer/day-cream/loreal-paris/glycolic-bright-day-cream-spf17-1?cat=&cat_id=0&age_range=&skin_type=&skin_tone=&skin_undertone=&hair_texture=&hair_type=&order=newest&page=1\n",
      "Night Cream Centella Asiatica - Rating: 5.0, Link: https://reviews.femaledaily.com/products/moisturizer/day-cream/npure/night-cream-centella-asiatica-1?cat=&cat_id=0&age_range=&skin_type=&skin_tone=&skin_undertone=&hair_texture=&hair_type=&order=newest&page=1\n",
      "Glycolic Bright Glowing Night Cream - Rating: 5.0, Link: https://reviews.femaledaily.com/products/moisturizer/day-cream/loreal-paris/glycolic-bright-glowing-night-cream-2?cat=&cat_id=0&age_range=&skin_type=&skin_tone=&skin_undertone=&hair_texture=&hair_type=&order=newest&page=1\n",
      "Bright Stuff Moisturizing Cream - Rating: 4.8, Link: https://reviews.femaledaily.com/products/moisturizer/day-cream/emina/bright-stuff-moisturizing-cream-2?cat=&cat_id=0&age_range=&skin_type=&skin_tone=&skin_undertone=&hair_texture=&hair_type=&order=newest&page=1\n"
     ]
    }
   ],
   "source": [
    "import pandas as pd\n",
    "\n",
    "# Load the CSV file\n",
    "file_path = 'Recommendation/skincare_new.csv'\n",
    "df = pd.read_csv(file_path)\n",
    "\n",
    "# Clean the dataframe by removing unnamed columns\n",
    "df = df.loc[:, ~df.columns.str.contains('^Unnamed')]\n",
    "\n",
    "# Ensure all values in the 'ingredient' column are strings and handle missing values\n",
    "df['ingredient'] = df['ingredient'].astype(str).fillna('')\n",
    "\n",
    "# Function to search for products based on ingredients input\n",
    "def search_products_by_ingredients(ingredients):\n",
    "    # Split the user input into a list of ingredients\n",
    "    ingredients_list = [ingredient.strip().lower() for ingredient in ingredients.split(',')]\n",
    "    \n",
    "    # Filter the dataframe for products containing all the input ingredients\n",
    "    filtered_df = df[df['ingredient'].apply(lambda x: all(ingredient in x.lower() for ingredient in ingredients_list))]\n",
    "    \n",
    "    # Sort the filtered dataframe by Rating in descending order\n",
    "    sorted_df = filtered_df.sort_values(by='Rating', ascending=False)\n",
    "    \n",
    "    return sorted_df\n",
    "\n",
    "# Function to get top products by skintype with maximum 6 products\n",
    "def get_top_products_by_skintype(df, skintype, max_products=6):\n",
    "    skintype_df = df[df['skincare_type'] == skintype].head(max_products)\n",
    "    return skintype_df[['skincare_name', 'Rating', 'Link']]\n",
    "\n",
    "# Define the order of skincare_types\n",
    "skincare_type_order = ['Sunscreen', 'Facial Wash', 'Moisturizer Gel', 'Moisturizer Cream']\n",
    "\n",
    "# Example usage\n",
    "result_df = search_products_by_ingredients(\"Titanium Dioxide\")\n",
    "\n",
    "if not result_df.empty:\n",
    "    for skintype in skincare_type_order:\n",
    "        skintype_df = result_df[result_df['skincare_type'] == skintype]\n",
    "        \n",
    "        if not skintype_df.empty:\n",
    "            print(f\"\\nTop products for skincare_type '{skintype}':\")\n",
    "            top_products = get_top_products_by_skintype(result_df, skintype, max_products=6)\n",
    "            for idx, row in top_products.iterrows():\n",
    "                print(f\"{row['skincare_name']} - Rating: {row['Rating']}, Link: {row['Link']}\")\n",
    "        else:\n",
    "            print(f\"\\nNo products found for skincare_type '{skintype}'.\")\n",
    "else:\n",
    "    print(\"No products found containing the given ingredients.\")\n"
   ]
  },
  {
   "cell_type": "code",
   "execution_count": null,
   "metadata": {},
   "outputs": [],
   "source": []
  }
 ],
 "metadata": {
  "kernelspec": {
   "display_name": "Python 3",
   "language": "python",
   "name": "python3"
  },
  "language_info": {
   "codemirror_mode": {
    "name": "ipython",
    "version": 3
   },
   "file_extension": ".py",
   "mimetype": "text/x-python",
   "name": "python",
   "nbconvert_exporter": "python",
   "pygments_lexer": "ipython3",
   "version": "3.12.2"
  }
 },
 "nbformat": 4,
 "nbformat_minor": 2
}
