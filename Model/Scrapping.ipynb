{
 "cells": [
  {
   "attachments": {},
   "cell_type": "markdown",
   "metadata": {},
   "source": [
    "#### This code used for collecting images from website"
   ]
  },
  {
   "cell_type": "code",
   "execution_count": 13,
   "metadata": {},
   "outputs": [
    {
     "name": "stdout",
     "output_type": "stream",
     "text": [
      "Image product_1469761401_Sun_Protec_800x800.jpg downloaded.\n"
     ]
    }
   ],
   "source": [
    "import requests\n",
    "import os\n",
    "\n",
    "# URL dari gambar yang ingin Anda unduh\n",
    "url = \"https://image.femaledaily.com/dyn/210/images/prod-pics/product_1469761401_Sun_Protec_800x800.jpg\"\n",
    "\n",
    "# Tentukan direktori tempat menyimpan gambar\n",
    "save_dir = 'downloaded_images'\n",
    "os.makedirs(save_dir, exist_ok=True)\n",
    "\n",
    "# Fungsi untuk membersihkan nama file\n",
    "def clean_filename(filename):\n",
    "    return re.sub(r'[<>:\"/\\\\|?*]', '_', filename)\n",
    "\n",
    "# Ambil nama file dari URL\n",
    "img_name = os.path.basename(url)\n",
    "img_name = clean_filename(img_name)  # Bersihkan nama file\n",
    "img_path = os.path.join(save_dir, img_name)\n",
    "\n",
    "# Unduh gambar dan simpan\n",
    "try:\n",
    "    img_data = requests.get(url).content\n",
    "    with open(img_path, 'wb') as f:\n",
    "        f.write(img_data)\n",
    "    print(f\"Image {img_name} downloaded.\")\n",
    "except requests.exceptions.RequestException as e:\n",
    "    print(f\"Failed to download image {img_name}: {e}\")\n"
   ]
  }
 ],
 "metadata": {
  "kernelspec": {
   "display_name": "Python 3",
   "language": "python",
   "name": "python3"
  },
  "language_info": {
   "codemirror_mode": {
    "name": "ipython",
    "version": 3
   },
   "file_extension": ".py",
   "mimetype": "text/x-python",
   "name": "python",
   "nbconvert_exporter": "python",
   "pygments_lexer": "ipython3",
   "version": "3.12.2"
  },
  "orig_nbformat": 4
 },
 "nbformat": 4,
 "nbformat_minor": 2
}
